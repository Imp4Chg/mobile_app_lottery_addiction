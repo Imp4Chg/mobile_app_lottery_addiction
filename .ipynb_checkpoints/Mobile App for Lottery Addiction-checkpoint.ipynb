{
 "cells": [
  {
   "cell_type": "markdown",
   "metadata": {},
   "source": [
    "# Mobile App for Lottery Addiction\n",
    "\n",
    "\n",
    "Lottery addiction is a growing issue across demographics. Most participants start playing the lottery for fun. However, it rapidly becomes an addiction for many due to its compulsive influence.\n",
    "\n",
    "Lottery players quickly graduate from using loose change, to spending their savings and loans and furthermore, start to accumulate debts which sometimes lead to theft in some cases or other self-sabotaging behaviours.\n",
    "\n",
    "A medical institute that aims to prevent and treat gambling additions is looking to build a mobile app to help lottery addicts better estimate their chances of winning. A team of engineers has been set up by the institute that will build the app, but they need a logical core created for them with the probabilites calculated.\n",
    "\n",
    "\n",
    "For the first version of the app, the institute wants to focus on the [6/49](https://en.wikipedia.org/wiki/Lotto_6/49) lottery and build functions that enable users answer questions like:\n",
    "\n",
    "* What is the probability of winning the big prize with a single ticket?\n",
    "* What is the probability of winning the big prize, if we play 40 different tickets or any number?\n",
    "* What is the probabily of having at least 5 numbers (or four or three or two or one) winning numbers on the ticket\n",
    "\n",
    "[The data set](https://www.kaggle.com/datascienceai/lottery-dataset) we examine for this project is available on Kaggle. The data was drawn from Canada where Lotto 6/49 is one of the national lottery games."
   ]
  },
  {
   "cell_type": "markdown",
   "metadata": {},
   "source": [
    "### Writing factorial and combination functions"
   ]
  },
  {
   "cell_type": "code",
   "execution_count": 1,
   "metadata": {},
   "outputs": [],
   "source": [
    "def factorial(a):\n",
    "    \n",
    "    x = 1\n",
    "    for i in range(a,0,-1):\n",
    "        x *= i\n",
    "    return x\n",
    "\n",
    "def combinations(n,k):\n",
    "    numerator = factorial(n)\n",
    "    denominator = factorial(k) * factorial(n-k)\n",
    "    return numerator/denominator"
   ]
  },
  {
   "cell_type": "markdown",
   "metadata": {},
   "source": [
    "# 1. Likelihood that one ticket can win"
   ]
  },
  {
   "cell_type": "markdown",
   "metadata": {},
   "source": [
    "### Writing a function that takes in a list of 6 unique numbers and prints the probability of winning"
   ]
  },
  {
   "cell_type": "markdown",
   "metadata": {},
   "source": [
    "For context, the lottery under consideration is the 6/49 lottery. In this lottery, six numbers are drawn from a set of 49 numbers that range from 1 to 49.\n",
    "\n",
    "A player wins the big prize if the 6 numbers on their ticket align the six numbers drawn. The order of the numbers on the ticket must match the order in which they are drawn.\n",
    "\n",
    "The medical insititue have advised that the first version of the app should allow players play their 6 numbers on a single ticket.\n",
    "\n",
    "We therefore, write a function that takes in a list of 6 numbers that are random and unique as parameters and print the probability of winning the big prize for that ticket"
   ]
  },
  {
   "cell_type": "code",
   "execution_count": 2,
   "metadata": {},
   "outputs": [],
   "source": [
    "def one_ticket_probability(num):\n",
    "           \n",
    "    total_outcomes = combinations(49,6)\n",
    "    \n",
    "    prob_one_ticket = 1/total_outcomes\n",
    "    prob_percentage = prob_one_ticket *100\n",
    "    \n",
    "    print('''The likelihood of your winning the big prize with {} is {:.7f}%'''.format(num, prob_percentage))\n",
    "    print('''That means, your chances of winning are 1 in {:,}'''.format(int(total_outcomes)))\n",
    "    "
   ]
  },
  {
   "cell_type": "markdown",
   "metadata": {},
   "source": [
    "### Testing the function with random unique numbers"
   ]
  },
  {
   "cell_type": "code",
   "execution_count": 3,
   "metadata": {},
   "outputs": [
    {
     "name": "stdout",
     "output_type": "stream",
     "text": [
      "The likelihood of your winning the big prize with [3, 14, 24, 5, 23, 17] is 0.0000072%\n",
      "That means, your chances of winning are 1 in 13,983,816\n"
     ]
    }
   ],
   "source": [
    "list_num = [3,14,24,5,23,17]\n",
    "one_ticket_probability(list_num)"
   ]
  },
  {
   "cell_type": "markdown",
   "metadata": {},
   "source": [
    "### Exploring historical data from Canada"
   ]
  },
  {
   "cell_type": "markdown",
   "metadata": {},
   "source": [
    "Using the Lotto 649 national lottery dataset from Canada"
   ]
  },
  {
   "cell_type": "code",
   "execution_count": 4,
   "metadata": {},
   "outputs": [],
   "source": [
    "# importing the libraries\n",
    "\n",
    "import pandas as pd"
   ]
  },
  {
   "cell_type": "code",
   "execution_count": 5,
   "metadata": {},
   "outputs": [],
   "source": [
    "# reading the dataset\n",
    "\n",
    "df_649 = pd.read_csv('649.csv')"
   ]
  },
  {
   "cell_type": "code",
   "execution_count": 6,
   "metadata": {},
   "outputs": [
    {
     "name": "stdout",
     "output_type": "stream",
     "text": [
      "No. of rows:  3665\n",
      "No. of columns:  11\n"
     ]
    }
   ],
   "source": [
    "# printing the number of rows and columns\n",
    "\n",
    "print('No. of rows: ',df_649.shape[0])\n",
    "print('No. of columns: ', df_649.shape[1])"
   ]
  },
  {
   "cell_type": "code",
   "execution_count": 7,
   "metadata": {},
   "outputs": [
    {
     "data": {
      "text/html": [
       "<div>\n",
       "<style scoped>\n",
       "    .dataframe tbody tr th:only-of-type {\n",
       "        vertical-align: middle;\n",
       "    }\n",
       "\n",
       "    .dataframe tbody tr th {\n",
       "        vertical-align: top;\n",
       "    }\n",
       "\n",
       "    .dataframe thead th {\n",
       "        text-align: right;\n",
       "    }\n",
       "</style>\n",
       "<table border=\"1\" class=\"dataframe\">\n",
       "  <thead>\n",
       "    <tr style=\"text-align: right;\">\n",
       "      <th></th>\n",
       "      <th>PRODUCT</th>\n",
       "      <th>DRAW NUMBER</th>\n",
       "      <th>SEQUENCE NUMBER</th>\n",
       "      <th>DRAW DATE</th>\n",
       "      <th>NUMBER DRAWN 1</th>\n",
       "      <th>NUMBER DRAWN 2</th>\n",
       "      <th>NUMBER DRAWN 3</th>\n",
       "      <th>NUMBER DRAWN 4</th>\n",
       "      <th>NUMBER DRAWN 5</th>\n",
       "      <th>NUMBER DRAWN 6</th>\n",
       "      <th>BONUS NUMBER</th>\n",
       "    </tr>\n",
       "  </thead>\n",
       "  <tbody>\n",
       "    <tr>\n",
       "      <th>0</th>\n",
       "      <td>649</td>\n",
       "      <td>1</td>\n",
       "      <td>0</td>\n",
       "      <td>6/12/1982</td>\n",
       "      <td>3</td>\n",
       "      <td>11</td>\n",
       "      <td>12</td>\n",
       "      <td>14</td>\n",
       "      <td>41</td>\n",
       "      <td>43</td>\n",
       "      <td>13</td>\n",
       "    </tr>\n",
       "    <tr>\n",
       "      <th>1</th>\n",
       "      <td>649</td>\n",
       "      <td>2</td>\n",
       "      <td>0</td>\n",
       "      <td>6/19/1982</td>\n",
       "      <td>8</td>\n",
       "      <td>33</td>\n",
       "      <td>36</td>\n",
       "      <td>37</td>\n",
       "      <td>39</td>\n",
       "      <td>41</td>\n",
       "      <td>9</td>\n",
       "    </tr>\n",
       "    <tr>\n",
       "      <th>2</th>\n",
       "      <td>649</td>\n",
       "      <td>3</td>\n",
       "      <td>0</td>\n",
       "      <td>6/26/1982</td>\n",
       "      <td>1</td>\n",
       "      <td>6</td>\n",
       "      <td>23</td>\n",
       "      <td>24</td>\n",
       "      <td>27</td>\n",
       "      <td>39</td>\n",
       "      <td>34</td>\n",
       "    </tr>\n",
       "  </tbody>\n",
       "</table>\n",
       "</div>"
      ],
      "text/plain": [
       "   PRODUCT  DRAW NUMBER  SEQUENCE NUMBER  DRAW DATE  NUMBER DRAWN 1  \\\n",
       "0      649            1                0  6/12/1982               3   \n",
       "1      649            2                0  6/19/1982               8   \n",
       "2      649            3                0  6/26/1982               1   \n",
       "\n",
       "   NUMBER DRAWN 2  NUMBER DRAWN 3  NUMBER DRAWN 4  NUMBER DRAWN 5  \\\n",
       "0              11              12              14              41   \n",
       "1              33              36              37              39   \n",
       "2               6              23              24              27   \n",
       "\n",
       "   NUMBER DRAWN 6  BONUS NUMBER  \n",
       "0              43            13  \n",
       "1              41             9  \n",
       "2              39            34  "
      ]
     },
     "execution_count": 7,
     "metadata": {},
     "output_type": "execute_result"
    }
   ],
   "source": [
    "# printing the first 3 rows\n",
    "\n",
    "df_649.head(3)"
   ]
  },
  {
   "cell_type": "code",
   "execution_count": 8,
   "metadata": {},
   "outputs": [
    {
     "data": {
      "text/html": [
       "<div>\n",
       "<style scoped>\n",
       "    .dataframe tbody tr th:only-of-type {\n",
       "        vertical-align: middle;\n",
       "    }\n",
       "\n",
       "    .dataframe tbody tr th {\n",
       "        vertical-align: top;\n",
       "    }\n",
       "\n",
       "    .dataframe thead th {\n",
       "        text-align: right;\n",
       "    }\n",
       "</style>\n",
       "<table border=\"1\" class=\"dataframe\">\n",
       "  <thead>\n",
       "    <tr style=\"text-align: right;\">\n",
       "      <th></th>\n",
       "      <th>PRODUCT</th>\n",
       "      <th>DRAW NUMBER</th>\n",
       "      <th>SEQUENCE NUMBER</th>\n",
       "      <th>DRAW DATE</th>\n",
       "      <th>NUMBER DRAWN 1</th>\n",
       "      <th>NUMBER DRAWN 2</th>\n",
       "      <th>NUMBER DRAWN 3</th>\n",
       "      <th>NUMBER DRAWN 4</th>\n",
       "      <th>NUMBER DRAWN 5</th>\n",
       "      <th>NUMBER DRAWN 6</th>\n",
       "      <th>BONUS NUMBER</th>\n",
       "    </tr>\n",
       "  </thead>\n",
       "  <tbody>\n",
       "    <tr>\n",
       "      <th>3662</th>\n",
       "      <td>649</td>\n",
       "      <td>3589</td>\n",
       "      <td>0</td>\n",
       "      <td>6/13/2018</td>\n",
       "      <td>6</td>\n",
       "      <td>22</td>\n",
       "      <td>24</td>\n",
       "      <td>31</td>\n",
       "      <td>32</td>\n",
       "      <td>34</td>\n",
       "      <td>16</td>\n",
       "    </tr>\n",
       "    <tr>\n",
       "      <th>3663</th>\n",
       "      <td>649</td>\n",
       "      <td>3590</td>\n",
       "      <td>0</td>\n",
       "      <td>6/16/2018</td>\n",
       "      <td>2</td>\n",
       "      <td>15</td>\n",
       "      <td>21</td>\n",
       "      <td>31</td>\n",
       "      <td>38</td>\n",
       "      <td>49</td>\n",
       "      <td>8</td>\n",
       "    </tr>\n",
       "    <tr>\n",
       "      <th>3664</th>\n",
       "      <td>649</td>\n",
       "      <td>3591</td>\n",
       "      <td>0</td>\n",
       "      <td>6/20/2018</td>\n",
       "      <td>14</td>\n",
       "      <td>24</td>\n",
       "      <td>31</td>\n",
       "      <td>35</td>\n",
       "      <td>37</td>\n",
       "      <td>48</td>\n",
       "      <td>17</td>\n",
       "    </tr>\n",
       "  </tbody>\n",
       "</table>\n",
       "</div>"
      ],
      "text/plain": [
       "      PRODUCT  DRAW NUMBER  SEQUENCE NUMBER  DRAW DATE  NUMBER DRAWN 1  \\\n",
       "3662      649         3589                0  6/13/2018               6   \n",
       "3663      649         3590                0  6/16/2018               2   \n",
       "3664      649         3591                0  6/20/2018              14   \n",
       "\n",
       "      NUMBER DRAWN 2  NUMBER DRAWN 3  NUMBER DRAWN 4  NUMBER DRAWN 5  \\\n",
       "3662              22              24              31              32   \n",
       "3663              15              21              31              38   \n",
       "3664              24              31              35              37   \n",
       "\n",
       "      NUMBER DRAWN 6  BONUS NUMBER  \n",
       "3662              34            16  \n",
       "3663              49             8  \n",
       "3664              48            17  "
      ]
     },
     "execution_count": 8,
     "metadata": {},
     "output_type": "execute_result"
    }
   ],
   "source": [
    "# printing the last 3 rows\n",
    "\n",
    "df_649.tail(3)"
   ]
  },
  {
   "cell_type": "markdown",
   "metadata": {},
   "source": [
    "It is said that the best predictor of the future is the past. Hence, comparing the six-number tickets played by our players against all previous winning tickets would inform us of the chances they had to win if they drew that ticket.\n",
    "\n",
    "The institute as a result, wants us to writ e a functions that prints:\n",
    "\n",
    "* the number of times the combination selected occured in the Canda dataset\n",
    "* the probability of winning the big prize in the next drawing with that combination."
   ]
  },
  {
   "cell_type": "markdown",
   "metadata": {},
   "source": [
    "### Writing a function that compares the current ticket with past tickets that have won and the likelihood of the ticket winning"
   ]
  },
  {
   "cell_type": "code",
   "execution_count": 9,
   "metadata": {},
   "outputs": [],
   "source": [
    "def extract_numbers(row):\n",
    "    \n",
    "    row = row[4:10]\n",
    "    row = set(row.values)\n",
    "    \n",
    "    return row\n",
    "\n",
    "won_numbers =  df_649.apply(extract_numbers, axis=1)"
   ]
  },
  {
   "cell_type": "code",
   "execution_count": 10,
   "metadata": {},
   "outputs": [
    {
     "data": {
      "text/plain": [
       "0    {3, 41, 11, 12, 43, 14}\n",
       "1    {33, 36, 37, 39, 8, 41}\n",
       "2     {1, 6, 39, 23, 24, 27}\n",
       "3     {3, 9, 10, 43, 13, 20}\n",
       "4    {34, 5, 14, 47, 21, 31}\n",
       "dtype: object"
      ]
     },
     "execution_count": 10,
     "metadata": {},
     "output_type": "execute_result"
    }
   ],
   "source": [
    "# Testing the function\n",
    "\n",
    "won_numbers.head()"
   ]
  },
  {
   "cell_type": "markdown",
   "metadata": {},
   "source": [
    "## Writing a function that compares users tickets to tickets that have won the competion before"
   ]
  },
  {
   "cell_type": "markdown",
   "metadata": {},
   "source": [
    "**Engineering team:**\n",
    "\n",
    "* Inside the app, the user inputs six different numbers from 1 to 49.\n",
    "* Under the hood, the six numbers will come as a Python list and serve as an input to our function.\n",
    "\n",
    "The engineering team wants us to write a function that prints:\n",
    "* the number of times the combination selected occurred in the Canada data set; and\n",
    "* the probability of winning the big prize in the next drawing with that combination."
   ]
  },
  {
   "cell_type": "code",
   "execution_count": 11,
   "metadata": {},
   "outputs": [],
   "source": [
    "def checking_historical_occurence(user_numbers, historical_winners):\n",
    "    user_ticket = set(user_numbers)\n",
    "    won_before = user_ticket == historical_winners\n",
    "    ticket_wins = won_before.sum()\n",
    "    \n",
    "    if ticket_wins == 0:\n",
    "        print (\"Your ticket with numbers {} has not won the competition before\".format(user_ticket))\n",
    "        print (\"The likelihood of your winning the big prize with {} is 0.0000072%\".format(user_ticket))\n",
    "    \n",
    "    else:\n",
    "        print (\"The number of times your ticket with numbers {} has won the competition before is {}\".format(user_ticket, ticket_wins))\n",
    "        print (\"The likelihood of your winning the big prize with {} is 0.0000072%\".format(user_ticket))\n",
    "               \n",
    "               "
   ]
  },
  {
   "cell_type": "code",
   "execution_count": 12,
   "metadata": {},
   "outputs": [
    {
     "name": "stdout",
     "output_type": "stream",
     "text": [
      "Your ticket with numbers {3, 36, 37, 39, 8, 41} has not won the competition before\n",
      "The likelihood of your winning the big prize with {3, 36, 37, 39, 8, 41} is 0.0000072%\n"
     ]
    }
   ],
   "source": [
    "sample_user_ticket = [3, 36, 37, 39, 8, 41]\n",
    "\n",
    "checking_historical_occurence(sample_user_ticket, won_numbers)"
   ]
  },
  {
   "cell_type": "code",
   "execution_count": 13,
   "metadata": {},
   "outputs": [
    {
     "name": "stdout",
     "output_type": "stream",
     "text": [
      "The number of times your ticket with numbers {33, 36, 37, 39, 8, 41} has won the competition before is 1\n",
      "The likelihood of your winning the big prize with {33, 36, 37, 39, 8, 41} is 0.0000072%\n"
     ]
    }
   ],
   "source": [
    "sample_user_ticket = [33, 36, 37, 39, 8, 41]\n",
    "\n",
    "checking_historical_occurence(sample_user_ticket, won_numbers)"
   ]
  },
  {
   "cell_type": "markdown",
   "metadata": {},
   "source": [
    "_**Context**_\n",
    "\n",
    "While it is possible for users to pick number combinations that have won the competition before, it does not in any way improve or decrease their chances of winning the competition as each user can only draw one ticket with 6 numbers from the possible combinations of tickets.\n",
    "\n",
    "Realistically, lottery addicts tend to buy more tickets to increase their chances of winning the competition. The institute's engineers require us to write a function that: \n",
    "\n",
    "* allows the players input the number of tickets they would buy \n",
    "* calculates the likelihood of their winning the competition.\n",
    "* does not need the exact numbers chosen per ticket"
   ]
  },
  {
   "cell_type": "markdown",
   "metadata": {},
   "source": [
    "# 2. Likelihood of winning prize with multiple tickets"
   ]
  },
  {
   "cell_type": "markdown",
   "metadata": {},
   "source": [
    "###  Writing a function that returns likelihood of winning competition with multiple tickets"
   ]
  },
  {
   "cell_type": "code",
   "execution_count": 14,
   "metadata": {},
   "outputs": [],
   "source": [
    "def multi_ticket_probability(num_tickets):\n",
    "    possible_outcomes = combinations(49,6)\n",
    "    successful_outcomes = num_tickets\n",
    "    \n",
    "    prob_multi_tickets = successful_outcomes/possible_outcomes\n",
    "    prob_multi_percentage = prob_multi_tickets * 100\n",
    "    \n",
    "    print(\"The likelihood of winning the prize if the number of tickets played is {:,} is {:.7f}%\".format(num_tickets,prob_multi_percentage))\n",
    "    print(\"This means, your chances of winning are {:,} in {:,}\".format(num_tickets, int(possible_outcomes)))"
   ]
  },
  {
   "cell_type": "code",
   "execution_count": 15,
   "metadata": {},
   "outputs": [
    {
     "name": "stdout",
     "output_type": "stream",
     "text": [
      "The likelihood of winning the prize if the number of tickets played is 1 is 0.0000072%\n",
      "This means, your chances of winning are 1 in 13,983,816\n",
      "\n",
      "\n",
      "The likelihood of winning the prize if the number of tickets played is 10 is 0.0000715%\n",
      "This means, your chances of winning are 10 in 13,983,816\n",
      "\n",
      "\n",
      "The likelihood of winning the prize if the number of tickets played is 100 is 0.0007151%\n",
      "This means, your chances of winning are 100 in 13,983,816\n",
      "\n",
      "\n",
      "The likelihood of winning the prize if the number of tickets played is 10,000 is 0.0715112%\n",
      "This means, your chances of winning are 10,000 in 13,983,816\n",
      "\n",
      "\n",
      "The likelihood of winning the prize if the number of tickets played is 1,000,000 is 7.1511238%\n",
      "This means, your chances of winning are 1,000,000 in 13,983,816\n",
      "\n",
      "\n",
      "The likelihood of winning the prize if the number of tickets played is 6,991,908 is 50.0000000%\n",
      "This means, your chances of winning are 6,991,908 in 13,983,816\n",
      "\n",
      "\n",
      "The likelihood of winning the prize if the number of tickets played is 13,983,816 is 100.0000000%\n",
      "This means, your chances of winning are 13,983,816 in 13,983,816\n",
      "\n",
      "\n"
     ]
    }
   ],
   "source": [
    "# Using some test inputs\n",
    "\n",
    "test_inputs = [1, 10, 100, 10000, 1000000, 6991908, 13983816]\n",
    "\n",
    "for i in test_inputs:\n",
    "    multi_ticket_probability(i)\n",
    "    print(\"\\n\")"
   ]
  },
  {
   "cell_type": "markdown",
   "metadata": {},
   "source": [
    "Obviously, the higher the number of tickets played, the more the likelihood of winning the prize. However, almost 7 million tickets have to be played by an individual to have a 50% chance of winning the prize. It is almost impossible for an individual to afford 7 million tickets especially because the cost of that many tickets would most likely be more than the prize to be won anyway."
   ]
  },
  {
   "cell_type": "markdown",
   "metadata": {},
   "source": [
    "# 3. Likelihood of between 2 to 5 numbers matching the winning ticket numbers"
   ]
  },
  {
   "cell_type": "markdown",
   "metadata": {},
   "source": [
    "Most lotteries give consolation prizes to players who play tickets with some numbers that match those of the winning tickets. In this case, since the tickets have a maximum of 6 numbers, any match of between 2 and 5 of the numbers gets the player a consolation prize.\n",
    "\n",
    "* Each ticket of 6 numbers can have 6 5-number combinations.\n",
    "* Each of these 5 number combinations can have 44 possible outcomes, since they are being drawn from 49 unique numbers (1 to 49).\n",
    "* The total number of successful outcomes of a 5-number combination for a ticket is (6 * 44) = 264\n",
    "\n",
    "Given that the total possible number of outcomes is still 13,983,816 for a 6-number ticket been drawn from 49 unique numbers, the likelihood of getting a ticket with a 5-number combination that matches the winning ticket is\n",
    "264 out of 13,983,816"
   ]
  },
  {
   "cell_type": "markdown",
   "metadata": {},
   "source": [
    "### Writing a function that takes in the number of matching digits between 2 and 5 and prints the likelihood of it matching a winning ticket"
   ]
  },
  {
   "cell_type": "code",
   "execution_count": 16,
   "metadata": {},
   "outputs": [],
   "source": [
    "def probability_less_6(matching_nums):\n",
    "    \n",
    "    # keeping the range of matched numbers between 2 and 5\n",
    "    if matching_nums < 2 or matching_nums > 5:\n",
    "        \n",
    "        print (\"The number of numbers that match the winning ticket must be between 2 and 5 for a consolation prize\")\n",
    "        \n",
    "    else:\n",
    "        \n",
    "        tot_successful_outcomes = combinations(6,matching_nums) * 44\n",
    "        tot_possible_outcomes = combinations(49,6)\n",
    "    \n",
    "        prob_less_6 = tot_successful_outcomes/tot_possible_outcomes\n",
    "        prob_less_6_percentage = prob_less_6 * 100\n",
    "    \n",
    "        print(\"The likelihood of getting {} numbers that match those of the winning ticket is {:.7f}%\".format(matching_nums, prob_less_6_percentage))\n",
    "        print(\"This means that you have {:,} chances in {:,} of getting a consolation prize for matching {} of the numbers on a winning ticket\".format(int(tot_successful_outcomes),int(tot_possible_outcomes),matching_nums,matching_nums))\n",
    "    \n",
    "    "
   ]
  },
  {
   "cell_type": "code",
   "execution_count": 17,
   "metadata": {},
   "outputs": [
    {
     "name": "stdout",
     "output_type": "stream",
     "text": [
      "The likelihood of getting 2 numbers that match those of the winning ticket is 0.0047197%\n",
      "This means that you have 660 chances in 13,983,816 of getting a consolation prize for matching 2 of the numbers on a winning ticket\n",
      "\n",
      "\n",
      "The likelihood of getting 3 numbers that match those of the winning ticket is 0.0062930%\n",
      "This means that you have 880 chances in 13,983,816 of getting a consolation prize for matching 3 of the numbers on a winning ticket\n",
      "\n",
      "\n",
      "The likelihood of getting 4 numbers that match those of the winning ticket is 0.0047197%\n",
      "This means that you have 660 chances in 13,983,816 of getting a consolation prize for matching 4 of the numbers on a winning ticket\n",
      "\n",
      "\n",
      "The likelihood of getting 5 numbers that match those of the winning ticket is 0.0018879%\n",
      "This means that you have 264 chances in 13,983,816 of getting a consolation prize for matching 5 of the numbers on a winning ticket\n",
      "\n",
      "\n"
     ]
    }
   ],
   "source": [
    "for val in range(2,6):\n",
    "    probability_less_6(val)\n",
    "    print(\"\\n\")"
   ]
  },
  {
   "cell_type": "code",
   "execution_count": 1,
   "metadata": {},
   "outputs": [
    {
     "ename": "NameError",
     "evalue": "name 'probability_less_6' is not defined",
     "output_type": "error",
     "traceback": [
      "\u001b[0;31m---------------------------------------------------------------------------\u001b[0m",
      "\u001b[0;31mNameError\u001b[0m                                 Traceback (most recent call last)",
      "\u001b[0;32m<ipython-input-1-5ed67b1d019b>\u001b[0m in \u001b[0;36m<module>\u001b[0;34m\u001b[0m\n\u001b[0;32m----> 1\u001b[0;31m \u001b[0mprobability_less_6\u001b[0m\u001b[0;34m(\u001b[0m\u001b[0;36m1\u001b[0m\u001b[0;34m)\u001b[0m\u001b[0;34m\u001b[0m\u001b[0;34m\u001b[0m\u001b[0m\n\u001b[0m",
      "\u001b[0;31mNameError\u001b[0m: name 'probability_less_6' is not defined"
     ]
    }
   ],
   "source": [
    "# Checking the the likelihood of having just 1 number\n",
    "\n",
    "probability_less_6(1)"
   ]
  },
  {
   "cell_type": "code",
   "execution_count": null,
   "metadata": {},
   "outputs": [],
   "source": []
  }
 ],
 "metadata": {
  "kernelspec": {
   "display_name": "Python 3",
   "language": "python",
   "name": "python3"
  },
  "language_info": {
   "codemirror_mode": {
    "name": "ipython",
    "version": 3
   },
   "file_extension": ".py",
   "mimetype": "text/x-python",
   "name": "python",
   "nbconvert_exporter": "python",
   "pygments_lexer": "ipython3",
   "version": "3.7.1"
  }
 },
 "nbformat": 4,
 "nbformat_minor": 2
}
